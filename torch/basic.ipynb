{
 "cells": [
  {
   "cell_type": "markdown",
   "id": "7be97c35",
   "metadata": {},
   "source": [
    "##### Import require dependencies"
   ]
  },
  {
   "cell_type": "code",
   "execution_count": 195,
   "id": "1c163bad",
   "metadata": {
    "ExecuteTime": {
     "end_time": "2025-05-14T15:16:00.155345Z",
     "start_time": "2025-05-14T15:16:00.151527Z"
    }
   },
   "outputs": [
    {
     "name": "stdout",
     "output_type": "stream",
     "text": [
      "Torch version 2.7.0 on mps\n"
     ]
    }
   ],
   "source": [
    "import torch\n",
    "import math\n",
    "import torch.nn as nn\n",
    "import torch.optim as optim\n",
    "import numpy as np\n",
    "from torchvision import datasets\n",
    "from torchvision import transforms\n",
    "from PIL import Image\n",
    "import pandas as pd\n",
    "import matplotlib.pyplot as plt\n",
    "from torchinfo import summary\n",
    "\n",
    "device = torch.accelerator.current_accelerator()\n",
    "print(f\"Torch version {torch.__version__} on {device}\")"
   ]
  },
  {
   "cell_type": "markdown",
   "id": "34bfeeba",
   "metadata": {},
   "source": [
    "##### How to use Tensor in PyTorch"
   ]
  },
  {
   "cell_type": "code",
   "execution_count": 159,
   "id": "75b1c69e",
   "metadata": {},
   "outputs": [
    {
     "name": "stdout",
     "output_type": "stream",
     "text": [
      "torch.Size([4, 4])\n",
      "Common functions:\n",
      "tensor([[0.4800, 0.6964, 0.5396, 0.2496],\n",
      "        [0.2677, 0.2380, 0.9126, 0.9748]])\n",
      "tensor([[1., -0., 1., 1.],\n",
      "        [1., -0., 1., 1.]])\n",
      "tensor([[ 0., -1.,  0.,  0.],\n",
      "        [ 0., -1.,  0.,  0.]])\n",
      "tensor([[ 0.4800, -0.5000,  0.5000,  0.2496],\n",
      "        [ 0.2677, -0.2380,  0.5000,  0.5000]])\n",
      "\n",
      "Sine and arcsine:\n",
      "tensor([0.0000, 0.7854, 1.5708, 2.3562])\n",
      "tensor([0.0000, 0.7071, 1.0000, 0.7071])\n",
      "tensor([0.0000, 0.7854, 1.5708, 0.7854])\n",
      "\n",
      "Bitwise XOR:\n",
      "tensor([3, 2, 1])\n",
      "\n",
      "Broadcasted, element-wise equality comparison:\n",
      "tensor([[ True, False],\n",
      "        [False, False]])\n",
      "\n",
      "Reduction ops:\n",
      "tensor(4.)\n",
      "4.0\n",
      "tensor(2.5000)\n",
      "tensor(1.2910)\n",
      "tensor(24.)\n",
      "tensor([1, 2])\n",
      "\n",
      "Vectors & Matrices:\n",
      "tensor([ 0.,  0., -1.])\n",
      "tensor([[0.4483, 0.3407],\n",
      "        [0.5777, 0.8219]])\n",
      "tensor([[1.3448, 1.0220],\n",
      "        [1.7331, 2.4656]])\n",
      "torch.return_types.linalg_svd(\n",
      "U=tensor([[-0.4794, -0.8776],\n",
      "        [-0.8776,  0.4794]]),\n",
      "S=tensor([3.4253, 0.4509]),\n",
      "Vh=tensor([[-0.6323, -0.7748],\n",
      "        [-0.7748,  0.6323]]))\n"
     ]
    }
   ],
   "source": [
    "# fix seed for random\n",
    "torch.manual_seed(10)\n",
    "\n",
    "# init matrix and get shape\n",
    "a = torch.rand(4, 4)\n",
    "print(a.shape)\n",
    "\n",
    "# init matrix all ones or zeros\n",
    "b = torch.ones(4, 4)\n",
    "c = torch.randn(5, 4)\n",
    "\n",
    "# random with normal distribution\n",
    "mean = 5\n",
    "std = 2\n",
    "x = torch.randn(100) * std + mean\n",
    "\n",
    "# broadcasting\n",
    "rand = torch.rand(2, 4)\n",
    "doubled = rand * (torch.arange(1, 5) * 2)\n",
    "\n",
    "# math\n",
    "# common functions\n",
    "a = torch.rand(2, 4) * 2 - 1\n",
    "print('Common functions:')\n",
    "print(torch.abs(a))\n",
    "print(torch.ceil(a))\n",
    "print(torch.floor(a))\n",
    "print(torch.clamp(a, -0.5, 0.5))\n",
    "\n",
    "# trigonometric functions and their inverses\n",
    "angles = torch.tensor([0, math.pi / 4, math.pi / 2, 3 * math.pi / 4])\n",
    "sines = torch.sin(angles)\n",
    "inverses = torch.asin(sines)\n",
    "print('\\nSine and arcsine:')\n",
    "print(angles)\n",
    "print(sines)\n",
    "print(inverses)\n",
    "\n",
    "# bitwise operations\n",
    "print('\\nBitwise XOR:')\n",
    "b = torch.tensor([1, 5, 11])\n",
    "c = torch.tensor([2, 7, 10])\n",
    "print(torch.bitwise_xor(b, c))\n",
    "\n",
    "# comparisons:\n",
    "print('\\nBroadcasted, element-wise equality comparison:')\n",
    "d = torch.tensor([[1., 2.], [3., 4.]])\n",
    "e = torch.ones(1, 2)  # many comparison ops support broadcasting!\n",
    "print(torch.eq(d, e)) # returns a tensor of type bool\n",
    "\n",
    "# reductions:\n",
    "print('\\nReduction ops:')\n",
    "print(torch.max(d))        # returns a single-element tensor\n",
    "print(torch.max(d).item()) # extracts the value from the returned tensor\n",
    "print(torch.mean(d))       # average\n",
    "print(torch.std(d))        # standard deviation\n",
    "print(torch.prod(d))       # product of all numbers\n",
    "print(torch.unique(torch.tensor([1, 2, 1, 2, 1, 2]))) # filter unique elements\n",
    "\n",
    "# vector and linear algebra operations\n",
    "v1 = torch.tensor([1., 0., 0.])         # x unit vector\n",
    "v2 = torch.tensor([0., 1., 0.])         # y unit vector\n",
    "m1 = torch.rand(2, 2)                   # random matrix\n",
    "m2 = torch.tensor([[3., 0.], [0., 3.]]) # three times identity matrix\n",
    "\n",
    "print('\\nVectors & Matrices:')\n",
    "print(torch.linalg.cross(v2, v1)) # negative of z unit vector (v1 x v2 == -v2 x v1)\n",
    "print(m1)\n",
    "m3 = torch.linalg.matmul(m1, m2)\n",
    "print(m3)                  # 3 times m1\n",
    "print(torch.linalg.svd(m3))       # singular value decomposition\n"
   ]
  },
  {
   "cell_type": "code",
   "execution_count": 164,
   "id": "53c735cd",
   "metadata": {},
   "outputs": [
    {
     "name": "stdout",
     "output_type": "stream",
     "text": [
      "tensor([[0.7717, 0.6075, 0.5334, 0.7489],\n",
      "        [0.0050, 0.7465, 0.6390, 0.6332],\n",
      "        [0.3612, 0.6436, 0.6184, 0.0132],\n",
      "        [0.2650, 0.7495, 0.1535, 0.3224]])\n",
      "tensor([[0.7717, 0.6075, 0.5334, 0.7489],\n",
      "        [0.0050, 0.7465, 0.6390, 0.6332],\n",
      "        [0.3612, 0.6436, 0.6184, 0.0132],\n",
      "        [0.2650, 0.7495, 0.1535, 0.3224]], device='mps:0')\n",
      "tensor([[5.1130e-01, 7.1038e-01, 4.6547e-01, 5.1482e-01, 8.8741e-01],\n",
      "        [4.2363e-01, 5.2895e-01, 7.3468e-01, 1.0377e-01, 3.2723e-01],\n",
      "        [5.9653e-01, 4.8060e-02, 1.2806e-01, 8.6387e-01, 5.1738e-01],\n",
      "        [4.2820e-01, 8.9939e-02, 2.1486e-01, 4.3624e-01, 6.4245e-04]],\n",
      "       dtype=torch.float64)\n",
      "[[0.7907677  0.756683   0.11291414 0.7221054  0.1384651 ]\n",
      " [0.9382006  0.4487694  0.56808156 0.6448014  0.11551696]\n",
      " [0.85658056 0.16931051 0.05397534 0.5941725  0.6413535 ]\n",
      " [0.8604609  0.09159291 0.39734888 0.89136016 0.76745033]]\n"
     ]
    }
   ],
   "source": [
    "# use GPU with tensor\n",
    "a = torch.rand(4, 4)\n",
    "print(a)\n",
    "a = a.to(device)\n",
    "print(a)\n",
    "\n",
    "# bridge with numpy\n",
    "np_arr = np.random.rand(4, 5)\n",
    "ts_arr = torch.from_numpy(np_arr)\n",
    "print(ts_arr)\n",
    "\n",
    "# convert to numpy\n",
    "ts_arr = torch.rand(4, 5)\n",
    "np_arr = ts_arr.numpy()\n",
    "print(np_arr)"
   ]
  },
  {
   "cell_type": "markdown",
   "id": "6537e4ad",
   "metadata": {},
   "source": [
    "##### Build Your First Multilayer Perceptron Model"
   ]
  },
  {
   "cell_type": "code",
   "execution_count": 15,
   "id": "2bab834e",
   "metadata": {},
   "outputs": [
    {
     "name": "stdout",
     "output_type": "stream",
     "text": [
      "--2025-05-14 22:36:18--  https://raw.githubusercontent.com/jbrownlee/Datasets/master/pima-indians-diabetes.data.csv\n",
      "Resolving raw.githubusercontent.com (raw.githubusercontent.com)... 2606:50c0:8001::154, 2606:50c0:8002::154, 2606:50c0:8003::154, ...\n",
      "Connecting to raw.githubusercontent.com (raw.githubusercontent.com)|2606:50c0:8001::154|:443... connected.\n",
      "HTTP request sent, awaiting response... 200 OK\n",
      "Length: 23278 (23K) [text/plain]\n",
      "Saving to: ‘pima-indians-diabetes.data.csv’\n",
      "\n",
      "pima-indians-diabet 100%[===================>]  22.73K  --.-KB/s    in 0s      \n",
      "\n",
      "2025-05-14 22:36:19 (47.5 MB/s) - ‘pima-indians-diabetes.data.csv’ saved [23278/23278]\n",
      "\n"
     ]
    }
   ],
   "source": [
    "!wget https://raw.githubusercontent.com/jbrownlee/Datasets/master/pima-indians-diabetes.data.csv"
   ]
  },
  {
   "cell_type": "code",
   "execution_count": 173,
   "id": "f1478e03",
   "metadata": {},
   "outputs": [
    {
     "name": "stdout",
     "output_type": "stream",
     "text": [
      "Shape dataframe: (767, 9)\n"
     ]
    }
   ],
   "source": [
    "data = pd.read_csv(\"./pima-indians-diabetes.data.csv\")\n",
    "print(f\"Shape dataframe: {data.shape}\")"
   ]
  },
  {
   "cell_type": "code",
   "execution_count": 177,
   "id": "a1b1a5dc",
   "metadata": {},
   "outputs": [
    {
     "data": {
      "text/plain": [
       "==========================================================================================\n",
       "Layer (type:depth-idx)                   Output Shape              Param #\n",
       "==========================================================================================\n",
       "Sequential                               [1]                       --\n",
       "├─Linear: 1-1                            [12]                      108\n",
       "├─ReLU: 1-2                              [12]                      --\n",
       "├─Linear: 1-3                            [8]                       104\n",
       "├─ReLU: 1-4                              [8]                       --\n",
       "├─Linear: 1-5                            [1]                       9\n",
       "├─Sigmoid: 1-6                           [1]                       --\n",
       "==========================================================================================\n",
       "Total params: 221\n",
       "Trainable params: 221\n",
       "Non-trainable params: 0\n",
       "Total mult-adds (M): 0.00\n",
       "==========================================================================================\n",
       "Input size (MB): 0.00\n",
       "Forward/backward pass size (MB): 0.00\n",
       "Params size (MB): 0.00\n",
       "Estimated Total Size (MB): 0.00\n",
       "=========================================================================================="
      ]
     },
     "execution_count": 177,
     "metadata": {},
     "output_type": "execute_result"
    }
   ],
   "source": [
    "model = nn.Sequential(\n",
    "    nn.Linear(8, 12),\n",
    "    nn.ReLU(),\n",
    "    nn.Linear(12, 8),\n",
    "    nn.ReLU(),\n",
    "    nn.Linear(8, 1),\n",
    "    nn.Sigmoid()\n",
    ")\n",
    "\n",
    "summary(model, (8,))"
   ]
  },
  {
   "cell_type": "markdown",
   "id": "070978af",
   "metadata": {},
   "source": [
    "##### Training a PyTorch Model"
   ]
  },
  {
   "cell_type": "code",
   "execution_count": 203,
   "id": "604d7d88",
   "metadata": {},
   "outputs": [
    {
     "name": "stdout",
     "output_type": "stream",
     "text": [
      "torch.Size([768, 8]) torch.Size([768, 1])\n",
      "Epoch 0\n",
      "Finished epoch 0, latest loss 0.5848190188407898\n",
      "Epoch 1\n",
      "Finished epoch 1, latest loss 0.5847914814949036\n",
      "Epoch 2\n",
      "Finished epoch 2, latest loss 0.5847690105438232\n",
      "Epoch 3\n",
      "Finished epoch 3, latest loss 0.5847495794296265\n",
      "Epoch 4\n",
      "Finished epoch 4, latest loss 0.5847325921058655\n",
      "Epoch 5\n",
      "Finished epoch 5, latest loss 0.5847175717353821\n",
      "Epoch 6\n",
      "Finished epoch 6, latest loss 0.5847043395042419\n",
      "Epoch 7\n",
      "Finished epoch 7, latest loss 0.5846925377845764\n",
      "Epoch 8\n",
      "Finished epoch 8, latest loss 0.5846821069717407\n",
      "Epoch 9\n",
      "Finished epoch 9, latest loss 0.5846728086471558\n"
     ]
    }
   ],
   "source": [
    "datasets = np.loadtxt(\"./pima-indians-diabetes.data.csv\", delimiter=\",\")\n",
    "X = datasets[:, :8]\n",
    "y = datasets[:, 8]\n",
    "\n",
    "X = torch.tensor(X, dtype=torch.float32)\n",
    "y = torch.tensor(y, dtype=torch.float32).reshape(-1, 1)\n",
    "\n",
    "print(X.shape, y.shape)\n",
    "\n",
    "# hyper parameters\n",
    "loss_fn = nn.BCELoss()\n",
    "optimizer = optim.Adam(model.parameters(), lr=0.001)\n",
    "n_epochs = 10\n",
    "batch_size = 10\n",
    "\n",
    "for epoch in range(n_epochs):\n",
    "    print(f\"Epoch {epoch}\")\n",
    "    count = 0\n",
    "    for i in range(0, len(X), batch_size):\n",
    "        Xbatch = X[i:i+batch_size]\n",
    "        y_pred = model(Xbatch)\n",
    "        ybatch = y[i:i+batch_size]\n",
    "        loss = loss_fn(y_pred, ybatch)\n",
    "\n",
    "        optimizer.zero_grad()\n",
    "        loss.backward()\n",
    "        optimizer.step()\n",
    "    \n",
    "    print(f'Finished epoch {epoch}, latest loss {loss}')"
   ]
  }
 ],
 "metadata": {
  "kernelspec": {
   "display_name": "Python 3",
   "language": "python",
   "name": "python3"
  },
  "language_info": {
   "codemirror_mode": {
    "name": "ipython",
    "version": 3
   },
   "file_extension": ".py",
   "mimetype": "text/x-python",
   "name": "python",
   "nbconvert_exporter": "python",
   "pygments_lexer": "ipython3",
   "version": "3.10.16"
  }
 },
 "nbformat": 4,
 "nbformat_minor": 5
}
