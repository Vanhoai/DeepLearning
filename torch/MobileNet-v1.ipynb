{
 "cells": [
  {
   "cell_type": "markdown",
   "id": "6f23702f",
   "metadata": {},
   "source": [
    "##### Import required dependencies"
   ]
  },
  {
   "cell_type": "code",
   "execution_count": 2,
   "id": "a2fc8738",
   "metadata": {
    "ExecuteTime": {
     "end_time": "2025-05-28T09:49:14.167044Z",
     "start_time": "2025-05-28T09:49:14.163760Z"
    }
   },
   "outputs": [
    {
     "name": "stdout",
     "output_type": "stream",
     "text": [
      "mps\n"
     ]
    }
   ],
   "source": [
    "import torch\n",
    "# all nn libraries nn.layer, convs and loss functions\n",
    "\n",
    "import torch.nn as nn\n",
    "# Display Image\n",
    "\n",
    "from IPython.display import Image\n",
    "\n",
    "# visualisation\n",
    "import torchvision\n",
    "from torchview import draw_graph\n",
    "\n",
    "# !pip install transformers\n",
    "from transformers import MobileNetV1Config, MobileNetV1Model\n",
    "\n",
    "# set device\n",
    "device = torch.device(\"mps\" if torch.mps.is_available() else \"cpu\")\n",
    "print(device)"
   ]
  }
 ],
 "metadata": {
  "kernelspec": {
   "display_name": "Python 3",
   "language": "python",
   "name": "python3"
  },
  "language_info": {
   "codemirror_mode": {
    "name": "ipython",
    "version": 3
   },
   "file_extension": ".py",
   "mimetype": "text/x-python",
   "name": "python",
   "nbconvert_exporter": "python",
   "pygments_lexer": "ipython3",
   "version": "3.10.16"
  }
 },
 "nbformat": 4,
 "nbformat_minor": 5
}
