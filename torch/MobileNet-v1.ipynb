{
 "cells": [
  {
   "cell_type": "markdown",
   "id": "6f23702f",
   "metadata": {},
   "source": [
    "##### Import required dependencies"
   ]
  },
  {
   "cell_type": "code",
   "execution_count": 2,
   "id": "a2fc8738",
   "metadata": {},
   "outputs": [
    {
     "name": "stderr",
     "output_type": "stream",
     "text": [
      "/Users/aurorastudyvn/Workspace/ML/deep_learning_research/.venv/lib/python3.10/site-packages/tqdm/auto.py:21: TqdmWarning: IProgress not found. Please update jupyter and ipywidgets. See https://ipywidgets.readthedocs.io/en/stable/user_install.html\n",
      "  from .autonotebook import tqdm as notebook_tqdm\n"
     ]
    },
    {
     "name": "stdout",
     "output_type": "stream",
     "text": [
      "mps\n"
     ]
    }
   ],
   "source": [
    "import torch\n",
    "# all nn libraries nn.layer, convs and loss functions\n",
    "\n",
    "import torch.nn as nn\n",
    "# Display Image\n",
    "\n",
    "from IPython.display import Image\n",
    "\n",
    "# visualisation\n",
    "import torchvision\n",
    "from torchview import draw_graph\n",
    "\n",
    "# !pip install transformers\n",
    "from transformers import MobileNetV1Config, MobileNetV1Model\n",
    "\n",
    "# set device\n",
    "device = torch.device('mps' if torch.mps.is_available() else 'cpu')\n",
    "print(device)"
   ]
  }
 ],
 "metadata": {
  "kernelspec": {
   "display_name": "Python 3",
   "language": "python",
   "name": "python3"
  },
  "language_info": {
   "codemirror_mode": {
    "name": "ipython",
    "version": 3
   },
   "file_extension": ".py",
   "mimetype": "text/x-python",
   "name": "python",
   "nbconvert_exporter": "python",
   "pygments_lexer": "ipython3",
   "version": "3.10.16"
  }
 },
 "nbformat": 4,
 "nbformat_minor": 5
}
