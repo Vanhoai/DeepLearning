{
 "cells": [
  {
   "cell_type": "markdown",
   "id": "4a9a2c6a",
   "metadata": {},
   "source": [
    "#### Implementation of MobileNetV3 with PyTorch"
   ]
  }
 ],
 "metadata": {
  "kernelspec": {
   "display_name": "Python 3",
   "language": "python",
   "name": "python3"
  },
  "language_info": {
   "name": "python",
   "version": "3.13.5"
  }
 },
 "nbformat": 4,
 "nbformat_minor": 5
}
