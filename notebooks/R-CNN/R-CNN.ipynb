{
 "cells": [
  {
   "metadata": {},
   "cell_type": "markdown",
   "source": [
    "#### Implementation of R-CNN architecture using PyTorch\n",
    "\n",
    "R-CNN (Region-based Convolutional Neural Network) is a pioneering architecture for object detection that combines region proposal networks with CNNs for classification and bounding box regression. It was one of the first methods to achieve high accuracy in object detection tasks.\n",
    "\n",
    "The R-CNN architecture consists of several key components:\n",
    "1. Pass the image through selective search and generate region proposals.\n",
    "2. Calculate IOUs (Intersection over Union) on proposed region with ground truth data and add label to the proposed regions.\n",
    "3. Do Transfer Learning using the proposed regions and the labels.\n",
    "4. Pass the image through a classifier to get the final predictions.\n",
    "5. Apply Non-Maximum Suppression (NMS) to remove overlapping bounding boxes."
   ],
   "id": "c283e4752d1dcb69"
  },
  {
   "metadata": {},
   "cell_type": "markdown",
   "source": [
    "##### Selective Search\n",
    "Selective Search is an algorithm used to generate region proposals in R-CNN. It combines the strengths of both exhaustive search and segmentation-based methods to propose regions that are likely to contain objects. The algorithm works by:\n",
    "1. **Over-segmentation**: The image is over-segmented into small regions using a graph-based segmentation algorithm.\n",
    "2. **Merging Regions**: The algorithm merges regions based on color, texture, size, and shape compatibility to form larger regions.\n",
    "3. **Hierarchical Merging**: The merging process is hierarchical, allowing the algorithm to generate regions at different scales.\n",
    "4. **Region Proposals**: The final output is a set of region proposals that are likely to contain objects, which are then fed into the CNN for further processing."
   ],
   "id": "e0615a7807141abc"
  },
  {
   "cell_type": "code",
   "id": "initial_id",
   "metadata": {
    "collapsed": true,
    "ExecuteTime": {
     "end_time": "2025-06-21T04:59:08.788573Z",
     "start_time": "2025-06-21T04:58:53.443439Z"
    }
   },
   "source": [
    "import cv2\n",
    "import sys\n",
    "\n",
    "path = \"/Users/hinsun/Workspace/ComputerScience/DeepLearning/assets/running.jpg\"\n",
    "\n",
    "# speed-up using multithreads\n",
    "cv2.setUseOptimized(True)\n",
    "cv2.setNumThreads(4)\n",
    "\n",
    "# read image\n",
    "im = cv2.imread(path)\n",
    "\n",
    "# resize image\n",
    "newHeight = 600\n",
    "newWidth = int(im.shape[1] * newHeight / im.shape[0])\n",
    "im = cv2.resize(im, (newWidth, newHeight))\n",
    "\n",
    "# create Selective Search Segmentation Object using default parameters\n",
    "ss = cv2.ximgproc.segmentation.createSelectiveSearchSegmentation()\n",
    "\n",
    "# set input image on which we will run segmentation\n",
    "ss.setBaseImage(im)\n",
    "ss.switchToSelectiveSearchFast()\n",
    "ss.switchToSelectiveSearchQuality()\n",
    "\n",
    "# run selective search segmentation on input image\n",
    "rects = ss.process()\n",
    "print(f\"Total Number of Region Proposals: {len(rects)}\")\n",
    "\n",
    "# number of region proposals to show\n",
    "numShowRects = 100\n",
    "# increment to increase/decrease total number\n",
    "# of reason proposals to be shown\n",
    "increment = 50\n",
    "\n",
    "while True:\n",
    "    # create a copy of original image\n",
    "    imOut = im.copy()\n",
    "    for i, rect in enumerate(rects):\n",
    "        # draw rectangle for region proposal till numShowRects\n",
    "        if i < numShowRects:\n",
    "            x, y, w, h = rect\n",
    "            cv2.rectangle(imOut, (x, y), (x + w, y + h), (0, 255, 0), 1, cv2.LINE_AA)\n",
    "        else:\n",
    "            break\n",
    "\n",
    "    # show output\n",
    "    cv2.imshow(\"Output\", imOut)\n",
    "\n",
    "    # record key press\n",
    "    k = cv2.waitKey(0) & 0xFF\n",
    "\n",
    "    # m is pressed\n",
    "    if k == 109:\n",
    "        # increase total number of rectangles to show by increment\n",
    "        numShowRects += increment\n",
    "    # l is pressed\n",
    "    elif k == 108 and numShowRects > increment:\n",
    "        # decrease total number of rectangles to show by increment\n",
    "        numShowRects -= increment\n",
    "    # q is pressed\n",
    "    elif k == 113:\n",
    "        break\n",
    "    # close image show window\n",
    "\n",
    "cv2.destroyAllWindows()"
   ],
   "outputs": [
    {
     "name": "stdout",
     "output_type": "stream",
     "text": [
      "Total Number of Region Proposals: 8830\n"
     ]
    }
   ],
   "execution_count": 1
  },
  {
   "metadata": {},
   "cell_type": "markdown",
   "source": [
    "##### IOU (Intersection over Union)\n",
    "Intersection over Union (IoU) is a metric used to evaluate the accuracy of an object detection model. It measures the overlap between the predicted bounding box and the ground truth bounding box. The IoU is calculated as follows:\n",
    "\n",
    "IoU = Intersection / Union\n",
    "\n",
    "Where:\n",
    "- Intersection: The area of the intersection between the predicted bounding box and the ground truth bounding box.\n",
    "- Union: The area covered by both the predicted bounding box and the ground truth bounding box.\n",
    "\n",
    "IoU ranges from 0 to 1, where 0 indicates no overlap and 1 indicates perfect overlap.\n",
    "IoU ≥ 0.5 -> assign label positive\n",
    "IoU < 0.3 -> assign label negative (background)\n",
    "0.3 ≤ IoU < 0.5 -> ignore (do not assign label)\n",
    "\n",
    "Notice: Ground truth box -> will be provided by the dataset"
   ],
   "id": "d14cd5bb1fd66d86"
  },
  {
   "metadata": {},
   "cell_type": "code",
   "outputs": [],
   "execution_count": null,
   "source": "",
   "id": "8a9e8bbe8fedce9d"
  }
 ],
 "metadata": {
  "kernelspec": {
   "display_name": "Python 3",
   "language": "python",
   "name": "python3"
  },
  "language_info": {
   "codemirror_mode": {
    "name": "ipython",
    "version": 2
   },
   "file_extension": ".py",
   "mimetype": "text/x-python",
   "name": "python",
   "nbconvert_exporter": "python",
   "pygments_lexer": "ipython2",
   "version": "2.7.6"
  }
 },
 "nbformat": 4,
 "nbformat_minor": 5
}
