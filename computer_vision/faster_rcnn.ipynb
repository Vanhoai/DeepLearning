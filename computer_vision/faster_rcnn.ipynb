{
 "cells": [
  {
   "cell_type": "markdown",
   "id": "93f42406",
   "metadata": {},
   "source": [
    "##### Step 1: Import required modules from torch and torchvision"
   ]
  },
  {
   "cell_type": "code",
   "execution_count": 2,
   "id": "75d15ba1",
   "metadata": {
    "ExecuteTime": {
     "end_time": "2025-05-05T15:38:33.477971Z",
     "start_time": "2025-05-05T15:38:30.649677Z"
    }
   },
   "outputs": [],
   "source": [
    "import torch\n",
    "from torch.utils.data import DataLoader\n",
    "import torchvision\n",
    "from torchvision.models.detection import fasterrcnn_resnet50_fpn\n",
    "from torchvision.datasets import ImageFolder\n",
    "from torchvision import transforms\n",
    "import torchvision.transforms as T\n",
    "from torchvision.models.detection.faster_rcnn import FastRCNNPredictor"
   ]
  },
  {
   "cell_type": "markdown",
   "id": "acbc8685",
   "metadata": {},
   "source": [
    "##### Step 3: Load Pre-trained Faster R-CNN Model"
   ]
  },
  {
   "cell_type": "code",
   "execution_count": 4,
   "id": "b3b42df1",
   "metadata": {
    "ExecuteTime": {
     "end_time": "2025-05-05T15:39:05.216952Z",
     "start_time": "2025-05-05T15:39:04.143042Z"
    }
   },
   "outputs": [],
   "source": [
    "# Load the pre-trained Faster R-CNN model with a ResNet-50 backbone\n",
    "model = fasterrcnn_resnet50_fpn(weights=True)\n",
    "\n",
    "# Number of classes (your dataset classes + 1 for background)\n",
    "num_classes = 3  # For example, 2 classes + background\n",
    "\n",
    "# Get the number of input features for the classifier\n",
    "in_features = model.roi_heads.box_predictor.cls_score.in_features\n",
    "\n",
    "# Replace the head of the model with a new one (for the number of classes in your dataset)\n",
    "model.roi_heads.box_predictor = FastRCNNPredictor(in_features, num_classes)"
   ]
  },
  {
   "cell_type": "markdown",
   "id": "961facac",
   "metadata": {},
   "source": [
    "##### Step 4: Prepare the Dataset"
   ]
  },
  {
   "cell_type": "code",
   "execution_count": 5,
   "id": "276192fe",
   "metadata": {
    "ExecuteTime": {
     "end_time": "2025-05-05T15:39:11.066863Z",
     "start_time": "2025-05-05T15:39:11.061027Z"
    }
   },
   "outputs": [],
   "source": [
    "# Define transformations (e.g., resizing, normalization)\n",
    "transform = T.Compose([T.ToTensor()])\n",
    "\n",
    "# Custom Dataset class or using an existing one\n",
    "class CustomDataset(torch.utils.data.Dataset):\n",
    "    def __init__(self, transforms=None):\n",
    "        # Initialize dataset paths and annotations here\n",
    "        self.transforms = transforms\n",
    "        # Your dataset logic (image paths, annotations, etc.)\n",
    "\n",
    "    def __getitem__(self, idx):\n",
    "        # Load image\n",
    "        img = ...  # Load your image here\n",
    "        # Load corresponding bounding boxes and labels\n",
    "\n",
    "        boxes = ...  # Load or define bounding boxes\n",
    "\n",
    "        labels = ...  # Load or define labels\n",
    "\n",
    "        # Create a target dictionary\n",
    "        target = {}\n",
    "        target[\"boxes\"] = torch.tensor(boxes, dtype=torch.float32)\n",
    "        target[\"labels\"] = torch.tensor(labels, dtype=torch.int64)\n",
    "        # Apply transforms\n",
    "        if self.transforms is not None:\n",
    "            img = self.transforms(img)\n",
    "        return img, target\n",
    "    def __len__(self):\n",
    "        # Return the length of your dataset\n",
    "        return len(self.data)"
   ]
  },
  {
   "cell_type": "markdown",
   "id": "3ee58d6a",
   "metadata": {},
   "source": [
    "##### Step 5: Set Up Data Loader"
   ]
  },
  {
   "cell_type": "code",
   "execution_count": 8,
   "id": "17b501c4",
   "metadata": {},
   "outputs": [
    {
     "ename": "AttributeError",
     "evalue": "'CustomDataset' object has no attribute 'data'",
     "output_type": "error",
     "traceback": [
      "\u001b[0;31m---------------------------------------------------------------------------\u001b[0m",
      "\u001b[0;31mAttributeError\u001b[0m                            Traceback (most recent call last)",
      "Cell \u001b[0;32mIn[8], line 5\u001b[0m\n\u001b[1;32m      2\u001b[0m dataset \u001b[38;5;241m=\u001b[39m CustomDataset(transforms\u001b[38;5;241m=\u001b[39mtransform)\n\u001b[1;32m      4\u001b[0m \u001b[38;5;66;03m# Split into train and validation sets\u001b[39;00m\n\u001b[0;32m----> 5\u001b[0m indices \u001b[38;5;241m=\u001b[39m torch\u001b[38;5;241m.\u001b[39mrandperm(\u001b[38;5;28;43mlen\u001b[39;49m\u001b[43m(\u001b[49m\u001b[43mdataset\u001b[49m\u001b[43m)\u001b[49m)\u001b[38;5;241m.\u001b[39mtolist()\n\u001b[1;32m      6\u001b[0m train_dataset \u001b[38;5;241m=\u001b[39m torch\u001b[38;5;241m.\u001b[39mutils\u001b[38;5;241m.\u001b[39mdata\u001b[38;5;241m.\u001b[39mSubset(dataset, indices[:\u001b[38;5;241m-\u001b[39m\u001b[38;5;241m50\u001b[39m])\n\u001b[1;32m      7\u001b[0m valid_dataset \u001b[38;5;241m=\u001b[39m torch\u001b[38;5;241m.\u001b[39mutils\u001b[38;5;241m.\u001b[39mdata\u001b[38;5;241m.\u001b[39mSubset(dataset, indices[\u001b[38;5;241m-\u001b[39m\u001b[38;5;241m50\u001b[39m:])\n",
      "Cell \u001b[0;32mIn[7], line 30\u001b[0m, in \u001b[0;36mCustomDataset.__len__\u001b[0;34m(self)\u001b[0m\n\u001b[1;32m     28\u001b[0m \u001b[38;5;28;01mdef\u001b[39;00m\u001b[38;5;250m \u001b[39m\u001b[38;5;21m__len__\u001b[39m(\u001b[38;5;28mself\u001b[39m):\n\u001b[1;32m     29\u001b[0m     \u001b[38;5;66;03m# Return the length of your dataset\u001b[39;00m\n\u001b[0;32m---> 30\u001b[0m     \u001b[38;5;28;01mreturn\u001b[39;00m \u001b[38;5;28mlen\u001b[39m(\u001b[38;5;28;43mself\u001b[39;49m\u001b[38;5;241;43m.\u001b[39;49m\u001b[43mdata\u001b[49m)\n",
      "\u001b[0;31mAttributeError\u001b[0m: 'CustomDataset' object has no attribute 'data'"
     ]
    }
   ],
   "source": [
    "# Load dataset\n",
    "dataset = CustomDataset(transforms=transform)\n",
    "\n",
    "# Split into train and validation sets\n",
    "indices = torch.randperm(len(dataset)).tolist()\n",
    "train_dataset = torch.utils.data.Subset(dataset, indices[:-50])\n",
    "valid_dataset = torch.utils.data.Subset(dataset, indices[-50:])\n",
    "\n",
    "# Create data loaders\n",
    "train_loader = DataLoader(\n",
    "    train_dataset, \n",
    "    batch_size=4, \n",
    "    shuffle=True, \n",
    "    collate_fn=lambda x: tuple(zip(*x))\n",
    ")\n",
    "\n",
    "valid_loader = DataLoader(\n",
    "    valid_dataset, \n",
    "    batch_size=4, \n",
    "    shuffle=False, \n",
    "    collate_fn=lambda x: tuple(zip(*x))\n",
    ")"
   ]
  }
 ],
 "metadata": {
  "kernelspec": {
   "display_name": "Python 3",
   "language": "python",
   "name": "python3"
  },
  "language_info": {
   "codemirror_mode": {
    "name": "ipython",
    "version": 3
   },
   "file_extension": ".py",
   "mimetype": "text/x-python",
   "name": "python",
   "nbconvert_exporter": "python",
   "pygments_lexer": "ipython3",
   "version": "3.10.16"
  }
 },
 "nbformat": 4,
 "nbformat_minor": 5
}
